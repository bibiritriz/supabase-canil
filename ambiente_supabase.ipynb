{
  "nbformat": 4,
  "nbformat_minor": 0,
  "metadata": {
    "colab": {
      "provenance": [],
      "authorship_tag": "ABX9TyM2sCrI7AYdH/MyKfr3Xlz/",
      "include_colab_link": true
    },
    "kernelspec": {
      "name": "python3",
      "display_name": "Python 3"
    },
    "language_info": {
      "name": "python"
    }
  },
  "cells": [
    {
      "cell_type": "markdown",
      "metadata": {
        "id": "view-in-github",
        "colab_type": "text"
      },
      "source": [
        "<a href=\"https://colab.research.google.com/github/bibiritriz/supabase-canil/blob/main/ambiente_supabase.ipynb\" target=\"_parent\"><img src=\"https://colab.research.google.com/assets/colab-badge.svg\" alt=\"Open In Colab\"/></a>"
      ]
    },
    {
      "cell_type": "code",
      "execution_count": 7,
      "metadata": {
        "colab": {
          "base_uri": "https://localhost:8080/"
        },
        "id": "jkJimX6PTlct",
        "outputId": "9bb3b721-d02c-4048-b50f-fe8b15fd1f0d"
      },
      "outputs": [
        {
          "output_type": "stream",
          "name": "stdout",
          "text": [
            "https://gqtgbkpvikmdyacwacjw.supabase.co/\n"
          ]
        }
      ],
      "source": [
        "import os\n",
        "from dotenv import load_dotenv\n",
        "load_dotenv('/content/drive/MyDrive/ColabNotebooks/.env')\n",
        "SUPABASE_URL=os.getenv(\"SUPABASE_URL\")\n",
        "SUPABASE_KEY=os.getenv(\"SUPABASE_KEY\")\n",
        "\n",
        "print(SUPABASE_URL)"
      ]
    },
    {
      "cell_type": "code",
      "source": [
        "from supabase import create_client\n",
        "\n",
        "supabase = create_client(SUPABASE_URL, SUPABASE_KEY)\n"
      ],
      "metadata": {
        "id": "cnwsKE2TZ-2z"
      },
      "execution_count": 9,
      "outputs": []
    },
    {
      "cell_type": "markdown",
      "source": [],
      "metadata": {
        "id": "qaS7HbPEaADL"
      }
    },
    {
      "cell_type": "code",
      "source": [
        "resposta = supabase.table(\"animais\").select(\"*\").execute()\n",
        "print (resposta.data)\n"
      ],
      "metadata": {
        "colab": {
          "base_uri": "https://localhost:8080/"
        },
        "id": "-QXcM6QXaSsN",
        "outputId": "60ed56a9-afd9-4fd7-bff0-80985422b214"
      },
      "execution_count": 12,
      "outputs": [
        {
          "output_type": "stream",
          "name": "stdout",
          "text": [
            "[{'raca': 'Poodle'}, {'raca': 'Persa'}, {'raca': None}, {'raca': 'Siamês'}, {'raca': 'Pitbull'}, {'raca': 'Vira-lata'}]\n"
          ]
        }
      ]
    },
    {
      "cell_type": "markdown",
      "source": [],
      "metadata": {
        "id": "F3WV1njSaevJ"
      }
    },
    {
      "cell_type": "code",
      "source": [
        "novo_animal1 = {\n",
        "  \"nome\": \"Bolt\",\n",
        "  \"especie\": \"Cão\",\n",
        "  \"raca\": \"Border Collie\",\n",
        "  \"porte\": \"Médio\",\n",
        "  \"sexo\": \"M\",\n",
        "  \"idade\": 3,\n",
        "  \"cor\": \"Preto e Branco\",\n",
        "  \"dataentrada\": \"2025-04-25\",\n",
        "  \"status\": \"Disponível\"\n",
        "}\n",
        "novo_animal2= {\n",
        "  \"nome\": \"Luna\",\n",
        "  \"especie\": \"Gato\",\n",
        "  \"raca\": \"Siamês\",\n",
        "  \"porte\": \"Pequeno\",\n",
        "  \"sexo\": \"F\",\n",
        "  \"idade\": 2,\n",
        "  \"cor\": \"Cinza\",\n",
        "  \"dataentrada\": \"2025-04-26\",\n",
        "  \"status\": \"Em tratamento\"\n",
        "}\n",
        "\n",
        "array_animal = [novo_animal1, novo_animal2]\n",
        "\n",
        "resposta = supabase.table(\"animais\").insert(array_animal).execute()\n",
        "print (resposta.data)\n"
      ],
      "metadata": {
        "colab": {
          "base_uri": "https://localhost:8080/"
        },
        "id": "UgpU3nXeak0e",
        "outputId": "34440031-0730-46da-d080-4eed5189d7eb"
      },
      "execution_count": 16,
      "outputs": [
        {
          "output_type": "stream",
          "name": "stdout",
          "text": [
            "[{'id': 8, 'nome': 'Bolt', 'especie': 'Cão', 'raca': 'Border Collie', 'porte': 'Médio', 'sexo': 'M', 'idade': 3, 'cor': 'Preto e Branco', 'dataentrada': '2025-04-25', 'status': 'Disponível'}, {'id': 9, 'nome': 'Luna', 'especie': 'Gato', 'raca': 'Siamês', 'porte': 'Pequeno', 'sexo': 'F', 'idade': 2, 'cor': 'Cinza', 'dataentrada': '2025-04-26', 'status': 'Em tratamento'}]\n"
          ]
        }
      ]
    },
    {
      "cell_type": "code",
      "source": [
        "resposta = supabase.table(\"animais\").update({\"status\": \"Adotado\" }).eq(\"id\", 5).execute()\n",
        "print(resposta.data)"
      ],
      "metadata": {
        "colab": {
          "base_uri": "https://localhost:8080/"
        },
        "id": "tXNlJeGQbc3z",
        "outputId": "e30763ee-eb70-40f0-eaad-619734dde12b"
      },
      "execution_count": 17,
      "outputs": [
        {
          "output_type": "stream",
          "name": "stdout",
          "text": [
            "[{'id': 5, 'nome': 'Mel', 'especie': 'Cachorro', 'raca': 'Poodle', 'porte': 'Pequeno', 'sexo': 'F', 'idade': 6, 'cor': 'Branco', 'dataentrada': '2025-04-26', 'status': 'Adotado'}]\n"
          ]
        }
      ]
    },
    {
      "cell_type": "code",
      "source": [
        "resposta = supabase.table(\"animais\").delete().eq(\"id\", 8).execute()\n",
        "print (resposta.data)\n"
      ],
      "metadata": {
        "colab": {
          "base_uri": "https://localhost:8080/"
        },
        "id": "k-3T-9MUcyz6",
        "outputId": "2d225a4c-616b-4fcb-a50d-63899d50e163"
      },
      "execution_count": 18,
      "outputs": [
        {
          "output_type": "stream",
          "name": "stdout",
          "text": [
            "[{'id': 8, 'nome': 'Bolt', 'especie': 'Cão', 'raca': 'Border Collie', 'porte': 'Médio', 'sexo': 'M', 'idade': 3, 'cor': 'Preto e Branco', 'dataentrada': '2025-04-25', 'status': 'Disponível'}]\n"
          ]
        }
      ]
    },
    {
      "cell_type": "code",
      "source": [
        "def cadastrar_animal(nome,especie,idade):\n",
        "  return supabase.table(\"animais\").insert({\n",
        "  \"nome\": nome ,\n",
        "  \"especie\": especie,\n",
        "  \"idade\": idade,\n",
        "  \"status\": \"Disponível\"\n",
        "}).execute()\n",
        "\n",
        "def atualizar_animal(campo, novo_dado, id_animal):\n",
        "  return supabase.table(\"animais\").update({f\"{campo}\": f\"{novo_dado}\"}).eq(\"id\", id_animal).execute()\n",
        "\n",
        "def deletar_animal(animal_id):\n",
        "  return supabase.table(\"animais\").delete().eq(\"id\", animal_id).execute()\n",
        "\n"
      ],
      "metadata": {
        "colab": {
          "base_uri": "https://localhost:8080/"
        },
        "id": "MusRhcYadEys",
        "outputId": "f4464d49-40cb-4fc6-d369-cd580013b0bf"
      },
      "execution_count": 25,
      "outputs": [
        {
          "output_type": "execute_result",
          "data": {
            "text/plain": [
              "APIResponse[~_ReturnT](data=[{'id': 9, 'nome': 'Jhoe', 'especie': 'Gato', 'raca': 'Siamês', 'porte': 'Pequeno', 'sexo': 'F', 'idade': 2, 'cor': 'Cinza', 'dataentrada': '2025-04-26', 'status': 'Em tratamento'}], count=None)"
            ]
          },
          "metadata": {},
          "execution_count": 25
        }
      ]
    },
    {
      "cell_type": "code",
      "source": [
        "def listar_animais_nao_adotados():\n",
        "  return supabase.table(\"animais\").select(\"*\").neq(\"status\", \"Adotado\").order(\"id\", desc=False).execute()\n",
        "\n",
        "print(listar_animais_nao_adotados());"
      ],
      "metadata": {
        "colab": {
          "base_uri": "https://localhost:8080/"
        },
        "id": "Am1WpEUsh0Dc",
        "outputId": "119e0016-de34-41d0-f68e-20da80d5fbe1"
      },
      "execution_count": 39,
      "outputs": [
        {
          "output_type": "stream",
          "name": "stdout",
          "text": [
            "data=[{'id': 4, 'nome': 'Luna', 'especie': 'Gato', 'raca': 'Persa', 'porte': 'Pequeno', 'sexo': 'F', 'idade': 4, 'cor': 'Preto', 'dataentrada': '2025-04-26', 'status': 'Adotado'}, {'id': 2, 'nome': 'Mia', 'especie': 'Gato', 'raca': 'Siamês', 'porte': 'Pequeno', 'sexo': 'F', 'idade': 2, 'cor': 'Branco', 'dataentrada': '2025-04-26', 'status': 'Adotado'}] count=None\n"
          ]
        }
      ]
    },
    {
      "cell_type": "code",
      "source": [
        "def listar_animal_especie(especie_animal):\n",
        "  return supabase.table(\"animais\").select(\"*\").eq(\"especie\", especie_animal).order(\"nome\", desc=False).execute()\n",
        "\n",
        "print(listar_animal_especie(\"Gato\"));"
      ],
      "metadata": {
        "colab": {
          "base_uri": "https://localhost:8080/"
        },
        "id": "HSQoRMNqi-bx",
        "outputId": "a2c6c138-0d13-4467-db67-d64ef8be2575"
      },
      "execution_count": 50,
      "outputs": [
        {
          "output_type": "stream",
          "name": "stdout",
          "text": [
            "data=[{'id': 4, 'nome': 'Luna', 'especie': 'Gato', 'raca': 'Persa', 'porte': 'Pequeno', 'sexo': 'F', 'idade': 4, 'cor': 'Preto', 'dataentrada': '2025-04-26', 'status': 'Adotado'}, {'id': 2, 'nome': 'Mia', 'especie': 'Gato', 'raca': 'Siamês', 'porte': 'Pequeno', 'sexo': 'F', 'idade': 2, 'cor': 'Branco', 'dataentrada': '2025-04-26', 'status': 'Adotado'}] count=None\n"
          ]
        }
      ]
    },
    {
      "cell_type": "markdown",
      "source": [],
      "metadata": {
        "id": "-DUSMwaxfR4R"
      }
    },
    {
      "cell_type": "code",
      "source": [
        "def relatorio_nome_idade():\n",
        "  return supabase.table(\"animais\").select(\"nome\", \"idade\").order(\"idade\", desc=False).execute()\n",
        "\n",
        "print(relatorio_nome_idade());"
      ],
      "metadata": {
        "colab": {
          "base_uri": "https://localhost:8080/"
        },
        "id": "LnPcnfxKlie5",
        "outputId": "49af466e-95f9-47a8-94bb-d9e18e5170f4"
      },
      "execution_count": 48,
      "outputs": [
        {
          "output_type": "stream",
          "name": "stdout",
          "text": [
            "data=[{'nome': 'Mia', 'idade': 2}, {'nome': 'Arnaldo', 'idade': 3}, {'nome': 'Rex', 'idade': 4}, {'nome': 'Luna', 'idade': 4}, {'nome': 'Thor', 'idade': 5}, {'nome': 'Mel', 'idade': 6}, {'nome': 'Bidu', 'idade': None}] count=None\n"
          ]
        }
      ]
    },
    {
      "cell_type": "code",
      "source": [
        "especie = input(\"Digite a especie procurada: \")\n",
        "\n",
        "print(listar_animal_especie(especie));"
      ],
      "metadata": {
        "colab": {
          "base_uri": "https://localhost:8080/"
        },
        "id": "LsTvb0U8mAvK",
        "outputId": "3b048b61-5d61-4012-e974-4552f2cf7f52"
      },
      "execution_count": 51,
      "outputs": [
        {
          "output_type": "stream",
          "name": "stdout",
          "text": [
            "Digite a especie procurada: Gato\n",
            "data=[{'id': 4, 'nome': 'Luna', 'especie': 'Gato', 'raca': 'Persa', 'porte': 'Pequeno', 'sexo': 'F', 'idade': 4, 'cor': 'Preto', 'dataentrada': '2025-04-26', 'status': 'Adotado'}, {'id': 2, 'nome': 'Mia', 'especie': 'Gato', 'raca': 'Siamês', 'porte': 'Pequeno', 'sexo': 'F', 'idade': 2, 'cor': 'Branco', 'dataentrada': '2025-04-26', 'status': 'Adotado'}] count=None\n"
          ]
        }
      ]
    },
    {
      "cell_type": "code",
      "source": [
        "res = supabase.auth.sign_up({\n",
        "    \"email\": \"aluno@teste.com\",\n",
        "    \"password\": \"senha_segura123\"\n",
        "})\n",
        "print(res)\n"
      ],
      "metadata": {
        "colab": {
          "base_uri": "https://localhost:8080/"
        },
        "id": "hrr4DkgynMNJ",
        "outputId": "36701b0c-a5e6-4b53-d555-f8c32acaf133"
      },
      "execution_count": 52,
      "outputs": [
        {
          "output_type": "stream",
          "name": "stdout",
          "text": [
            "user=User(id='0cbe7843-f928-422c-ad05-76f3f31bf2f5', app_metadata={'provider': 'email', 'providers': ['email']}, user_metadata={'email': 'aluno@teste.com', 'email_verified': False, 'phone_verified': False, 'sub': '0cbe7843-f928-422c-ad05-76f3f31bf2f5'}, aud='authenticated', confirmation_sent_at=datetime.datetime(2025, 4, 27, 18, 58, 8, 943157, tzinfo=TzInfo(UTC)), recovery_sent_at=None, email_change_sent_at=None, new_email=None, new_phone=None, invited_at=None, action_link=None, email='aluno@teste.com', phone='', created_at=datetime.datetime(2025, 4, 27, 18, 58, 8, 911637, tzinfo=TzInfo(UTC)), confirmed_at=None, email_confirmed_at=None, phone_confirmed_at=None, last_sign_in_at=None, role='authenticated', updated_at=datetime.datetime(2025, 4, 27, 18, 58, 11, 255646, tzinfo=TzInfo(UTC)), identities=[UserIdentity(id='0cbe7843-f928-422c-ad05-76f3f31bf2f5', identity_id='61314082-b707-4a5c-91a7-aec5e1cdf721', user_id='0cbe7843-f928-422c-ad05-76f3f31bf2f5', identity_data={'email': 'aluno@teste.com', 'email_verified': False, 'phone_verified': False, 'sub': '0cbe7843-f928-422c-ad05-76f3f31bf2f5'}, provider='email', created_at=datetime.datetime(2025, 4, 27, 18, 58, 8, 934456, tzinfo=TzInfo(UTC)), last_sign_in_at=datetime.datetime(2025, 4, 27, 18, 58, 8, 934405, tzinfo=TzInfo(UTC)), updated_at=datetime.datetime(2025, 4, 27, 18, 58, 8, 934456, tzinfo=TzInfo(UTC)))], is_anonymous=False, factors=None) session=None\n"
          ]
        }
      ]
    },
    {
      "cell_type": "markdown",
      "source": [],
      "metadata": {
        "id": "u6AcSJLLng4m"
      }
    }
  ]
}